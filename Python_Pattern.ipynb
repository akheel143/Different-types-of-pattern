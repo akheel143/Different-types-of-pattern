{
  "nbformat": 4,
  "nbformat_minor": 0,
  "metadata": {
    "colab": {
      "name": "Python Pattern ",
      "provenance": [],
      "collapsed_sections": [],
      "authorship_tag": "ABX9TyMxNqhjVacyDnnjoxHconxL",
      "include_colab_link": true
    },
    "kernelspec": {
      "name": "python3",
      "display_name": "Python 3"
    },
    "language_info": {
      "name": "python"
    }
  },
  "cells": [
    {
      "cell_type": "markdown",
      "metadata": {
        "id": "view-in-github",
        "colab_type": "text"
      },
      "source": [
        "<a href=\"https://colab.research.google.com/github/akheel143/PYTHON-Different-types-of-pattern/blob/main/Python_Pattern.ipynb\" target=\"_parent\"><img src=\"https://colab.research.google.com/assets/colab-badge.svg\" alt=\"Open In Colab\"/></a>"
      ]
    },
    {
      "cell_type": "markdown",
      "source": [
        "Number pattern\n",
        "\n",
        "Triangle pattern\n",
        "\n",
        "Star (*) or asterisk pattern\n",
        "\n",
        "Pyramid pattern\n",
        "\n",
        "Inverted pyramid pattern\n",
        "\n",
        "Half pyramid pattern\n",
        "\n",
        "Diamond Shaped pattern\n",
        "\n",
        "Characters or alphabets pattern\n",
        "\n",
        "Square pattern"
      ],
      "metadata": {
        "id": "xZE7rFqloJ7v"
      }
    },
    {
      "cell_type": "markdown",
      "source": [
        "Programs to print number pattern"
      ],
      "metadata": {
        "id": "EADckSFd89uy"
      }
    },
    {
      "cell_type": "code",
      "source": [
        "for i in range(6):\n",
        "  for j in range(i):\n",
        "    print(i,end='')\n",
        "  print(\"  \")"
      ],
      "metadata": {
        "colab": {
          "base_uri": "https://localhost:8080/"
        },
        "id": "s7MqJVus89cm",
        "outputId": "2d5ed91b-e2f2-4985-b14a-0b367f7848d1"
      },
      "execution_count": null,
      "outputs": [
        {
          "output_type": "stream",
          "name": "stdout",
          "text": [
            "  \n",
            "1  \n",
            "22  \n",
            "333  \n",
            "4444  \n",
            "55555  \n"
          ]
        }
      ]
    },
    {
      "cell_type": "code",
      "source": [
        "for i in range(1,6):\n",
        "  for j in range(1,i+1):\n",
        "    print(j,end='')\n",
        "  print(\"  \")"
      ],
      "metadata": {
        "colab": {
          "base_uri": "https://localhost:8080/"
        },
        "id": "xBHInusD87NK",
        "outputId": "b4107ab1-323b-4dc1-fc21-c4bd582bba48"
      },
      "execution_count": null,
      "outputs": [
        {
          "output_type": "stream",
          "name": "stdout",
          "text": [
            "1  \n",
            "12  \n",
            "123  \n",
            "1234  \n",
            "12345  \n"
          ]
        }
      ]
    },
    {
      "cell_type": "code",
      "execution_count": null,
      "metadata": {
        "colab": {
          "base_uri": "https://localhost:8080/"
        },
        "id": "4L_5sLG87EqU",
        "outputId": "6544c5db-8446-4d71-efc0-b1a52e2427fd"
      },
      "outputs": [
        {
          "output_type": "stream",
          "name": "stdout",
          "text": [
            "1 2 3 4 5 \n",
            "1 2 3 4 \n",
            "1 2 3 \n",
            "1 2 \n"
          ]
        }
      ],
      "source": [
        "rows = 5\n",
        "for i in range(rows,1,-1):\n",
        "    for j in range(1, i + 1):\n",
        "        print(j, end=' ')\n",
        "    print('')"
      ]
    },
    {
      "cell_type": "code",
      "source": [
        "x=2\n",
        "for i in range(1,6):\n",
        "  for j in range(1,i):\n",
        "    print(x,end='')\n",
        "  print('')"
      ],
      "metadata": {
        "colab": {
          "base_uri": "https://localhost:8080/"
        },
        "id": "NxV43dLJ-XLd",
        "outputId": "88dee56a-56e5-4123-cdd8-7df8c92fd138"
      },
      "execution_count": null,
      "outputs": [
        {
          "output_type": "stream",
          "name": "stdout",
          "text": [
            "\n",
            "2\n",
            "22\n",
            "222\n",
            "2222\n"
          ]
        }
      ]
    },
    {
      "cell_type": "code",
      "source": [
        "x=2\n",
        "for i in range(6,1,-1):\n",
        "  for j in range(1,i):\n",
        "    print(x,end='')\n",
        "  print('')"
      ],
      "metadata": {
        "colab": {
          "base_uri": "https://localhost:8080/"
        },
        "id": "lTmRkarlHSS5",
        "outputId": "89ba09a1-9747-49b4-d97b-7aaa125d1f88"
      },
      "execution_count": null,
      "outputs": [
        {
          "output_type": "stream",
          "name": "stdout",
          "text": [
            "22222\n",
            "2222\n",
            "222\n",
            "22\n",
            "2\n"
          ]
        }
      ]
    },
    {
      "cell_type": "code",
      "source": [
        "#method1\n",
        "#print odd pattern\n",
        "rows = 5\n",
        "i = 1\n",
        "while i <= rows:\n",
        "    j = 1\n",
        "    while j <= i:\n",
        "        print((i * 2 - 1), end=\" \")\n",
        "        j = j + 1\n",
        "    i = i + 1\n",
        "    print('')"
      ],
      "metadata": {
        "colab": {
          "base_uri": "https://localhost:8080/"
        },
        "id": "UUzOH6zG-zEt",
        "outputId": "3016f67c-6a9b-4b04-ff38-2221d0e5d5af"
      },
      "execution_count": null,
      "outputs": [
        {
          "output_type": "stream",
          "name": "stdout",
          "text": [
            "1 \n",
            "3 3 \n",
            "5 5 5 \n",
            "7 7 7 7 \n",
            "9 9 9 9 9 \n"
          ]
        }
      ]
    },
    {
      "cell_type": "code",
      "source": [
        "#method2\n",
        "#print odd pattern\n",
        "for i in range(1,6):\n",
        "  for j in range(i):\n",
        "    print(i*2-1,end=' ')\n",
        "  print(' ')"
      ],
      "metadata": {
        "colab": {
          "base_uri": "https://localhost:8080/"
        },
        "id": "LhHfdQgFHuqv",
        "outputId": "091b7d38-e000-4b2e-df82-51714442f468"
      },
      "execution_count": null,
      "outputs": [
        {
          "output_type": "stream",
          "name": "stdout",
          "text": [
            "1  \n",
            "3 3  \n",
            "5 5 5  \n",
            "7 7 7 7  \n",
            "9 9 9 9 9  \n"
          ]
        }
      ]
    },
    {
      "cell_type": "code",
      "source": [
        "rows=5\n",
        "i=1\n",
        "while i<=rows:\n",
        "  j=1\n",
        "  while j<=i:\n",
        "    print(i*2-1,end=' ')\n",
        "    j+=1\n",
        "  i+=1\n",
        "  print('')"
      ],
      "metadata": {
        "colab": {
          "base_uri": "https://localhost:8080/"
        },
        "id": "iELIdpsmIMM7",
        "outputId": "2aaaac9a-a4f2-406e-cfb3-38701f60335f"
      },
      "execution_count": null,
      "outputs": [
        {
          "output_type": "stream",
          "name": "stdout",
          "text": [
            "1\n",
            "33\n",
            "555\n",
            "7777\n",
            "99999\n"
          ]
        }
      ]
    },
    {
      "cell_type": "code",
      "source": [
        "rows=5\n",
        "i=1\n",
        "while i<=rows:\n",
        "  j=1\n",
        "  while j<=i:\n",
        "    print(i+2,end='')\n",
        "    j+=1\n",
        "  i+=1\n",
        "  print('')"
      ],
      "metadata": {
        "colab": {
          "base_uri": "https://localhost:8080/"
        },
        "id": "-liS47SkJqC8",
        "outputId": "db507301-5046-4f3a-b3aa-ae52e28860a2"
      },
      "execution_count": null,
      "outputs": [
        {
          "output_type": "stream",
          "name": "stdout",
          "text": [
            "3\n",
            "44\n",
            "555\n",
            "6666\n",
            "77777\n"
          ]
        }
      ]
    },
    {
      "cell_type": "code",
      "source": [
        "start = 1\n",
        "stop = 2\n",
        "current_num = stop\n",
        "for row in range(2, 6):\n",
        "    for col in range(start, stop):\n",
        "        current_num -= 1\n",
        "        print(current_num, end=' ')\n",
        "    print(\"\")\n",
        "    start = stop\n",
        "    stop += row\n",
        "    current_num = stop"
      ],
      "metadata": {
        "colab": {
          "base_uri": "https://localhost:8080/"
        },
        "id": "mUEgszgTLxTs",
        "outputId": "447761e4-2841-4936-a35d-546b7bd95f30"
      },
      "execution_count": null,
      "outputs": [
        {
          "output_type": "stream",
          "name": "stdout",
          "text": [
            "1 \n",
            "3 2 \n",
            "6 5 4 \n",
            "10 9 8 7 \n"
          ]
        }
      ]
    },
    {
      "cell_type": "code",
      "source": [
        "rows = 6\n",
        "for i in range(1, rows):\n",
        "    num = 1\n",
        "    for j in range(rows, 0, -1):\n",
        "        if j > i:\n",
        "            print(\" \", end=' ')\n",
        "        else:\n",
        "            print(num, end=' ')\n",
        "            num += 1\n",
        "    print(\"\")"
      ],
      "metadata": {
        "colab": {
          "base_uri": "https://localhost:8080/"
        },
        "id": "PRKbuBimSVPE",
        "outputId": "804e82a7-5181-4f16-c28b-d3718d71fff2"
      },
      "execution_count": null,
      "outputs": [
        {
          "output_type": "stream",
          "name": "stdout",
          "text": [
            "          1 \n",
            "        1 2 \n",
            "      1 2 3 \n",
            "    1 2 3 4 \n",
            "  1 2 3 4 5 \n"
          ]
        }
      ]
    },
    {
      "cell_type": "code",
      "source": [
        "rows=6\n",
        "for i in range(1,rows):\n",
        "  num=1\n",
        "  for j in range(rows,0,-1):\n",
        "    if j>i:\n",
        "      print(' ',end='')\n",
        "    else:\n",
        "      print(num,end='')\n",
        "      num+=1\n",
        "  print('')"
      ],
      "metadata": {
        "colab": {
          "base_uri": "https://localhost:8080/"
        },
        "id": "IM0vZrc5SyC8",
        "outputId": "6f687729-03b4-47d0-baed-4650a1cf68a3"
      },
      "execution_count": null,
      "outputs": [
        {
          "output_type": "stream",
          "name": "stdout",
          "text": [
            "     1\n",
            "    12\n",
            "   123\n",
            "  1234\n",
            " 12345\n"
          ]
        }
      ]
    },
    {
      "cell_type": "markdown",
      "source": [
        "Pascal’s triangle pattern using numbers"
      ],
      "metadata": {
        "id": "vzeAnW3HbaAc"
      }
    },
    {
      "cell_type": "code",
      "source": [
        "def print_pascal_triangle(size):\n",
        "    for i in range(0, size):\n",
        "        for j in range(0, i + 1):\n",
        "            print(decide_number(i, j), end=\" \")\n",
        "        print()\n",
        "def decide_number(n, k):\n",
        "    num = 1\n",
        "    if k > n - k:\n",
        "        k = n - k\n",
        "    for i in range(0, k):\n",
        "        num = num * (n - i)\n",
        "        num = num // (i + 1)\n",
        "    return num\n",
        "# set rows\n",
        "rows = 7\n",
        "print_pascal_triangle(rows)"
      ],
      "metadata": {
        "colab": {
          "base_uri": "https://localhost:8080/"
        },
        "id": "KkxB9XZ9Z4yu",
        "outputId": "ed82a992-10b1-4f5d-e20f-72a3cd5b8b28"
      },
      "execution_count": null,
      "outputs": [
        {
          "output_type": "stream",
          "name": "stdout",
          "text": [
            "1 \n",
            "1 1 \n",
            "1 2 1 \n",
            "1 3 3 1 \n",
            "1 4 6 4 1 \n",
            "1 5 10 10 5 1 \n",
            "1 6 15 20 15 6 1 \n"
          ]
        }
      ]
    },
    {
      "cell_type": "code",
      "source": [
        "rows = 5\n",
        "for i in range(1, rows + 1):\n",
        "    for j in range(1, rows + 1):\n",
        "        if j <= i:\n",
        "            print(i, end=' ')\n",
        "        else:\n",
        "            print(j, end=' ')\n",
        "    print()\n"
      ],
      "metadata": {
        "colab": {
          "base_uri": "https://localhost:8080/"
        },
        "id": "2u1xXMmLbcdN",
        "outputId": "d67d121c-cfe7-4633-8fc4-a011e31da2f2"
      },
      "execution_count": null,
      "outputs": [
        {
          "output_type": "stream",
          "name": "stdout",
          "text": [
            "1 2 3 4 5 \n",
            "2 2 3 4 5 \n",
            "3 3 3 4 5 \n",
            "4 4 4 4 5 \n",
            "5 5 5 5 5 \n"
          ]
        }
      ]
    },
    {
      "cell_type": "code",
      "source": [
        "rows = 8\n",
        "# rows = int(input(\"Enter the number of rows \"))\n",
        "for i in range(1, rows + 1):\n",
        "    for j in range(1, i + 1):\n",
        "        # multiplication current column and row\n",
        "        square = i * j\n",
        "        print(i * j, end='  ')\n",
        "    print()\n"
      ],
      "metadata": {
        "colab": {
          "base_uri": "https://localhost:8080/"
        },
        "id": "Pm9sR4I8Z4vV",
        "outputId": "377106be-e35d-42f8-b6bf-167db373fb9b"
      },
      "execution_count": null,
      "outputs": [
        {
          "output_type": "stream",
          "name": "stdout",
          "text": [
            "1  \n",
            "2  4  \n",
            "3  6  9  \n",
            "4  8  12  16  \n",
            "5  10  15  20  25  \n",
            "6  12  18  24  30  36  \n",
            "7  14  21  28  35  42  49  \n",
            "8  16  24  32  40  48  56  64  \n"
          ]
        }
      ]
    },
    {
      "cell_type": "markdown",
      "source": [
        "Star patterns"
      ],
      "metadata": {
        "id": "KAqvRoj43-nO"
      }
    },
    {
      "cell_type": "code",
      "source": [
        "# number of rows\n",
        "rows = 5\n",
        "for i in range(0, rows):\n",
        "    # nested loop for each column\n",
        "    for j in range(0, i + 1):\n",
        "        # print star\n",
        "        print(\"*\", end=' ')\n",
        "    # new line after each row\n",
        "    print(\"\\r\")\n"
      ],
      "metadata": {
        "colab": {
          "base_uri": "https://localhost:8080/"
        },
        "id": "F5n_OHJRqHvW",
        "outputId": "8a6e18aa-f2c2-4d12-b4e0-0821f892a774"
      },
      "execution_count": 103,
      "outputs": [
        {
          "output_type": "stream",
          "name": "stdout",
          "text": [
            "* \r\n",
            "* * \r\n",
            "* * * \r\n",
            "* * * * \r\n",
            "* * * * * \r\n"
          ]
        }
      ]
    },
    {
      "cell_type": "code",
      "source": [
        "for i in range(1,6):\n",
        "  for j in range(6,1,-1):\n",
        "    if j>i:\n",
        "      print(' ',end='')\n",
        "    else:\n",
        "      print('*',end='')\n",
        "  print('')\n",
        "print('\\n')\n",
        "\n",
        "for i in range(1,6):\n",
        "  for j in range(6,1,-1):\n",
        "    if j>i:\n",
        "      print(' ',end='')\n",
        "    else:\n",
        "      print('*',end=' ')\n",
        "  print('')\n",
        "print('\\n')\n",
        "\n",
        "for i in range(1,6):\n",
        "  for j in range(6,0,-1):\n",
        "    if j<i:\n",
        "      print(' ',end='')\n",
        "    else:\n",
        "      print('*',end='')\n",
        "  print('')\n",
        "print('\\n')"
      ],
      "metadata": {
        "id": "nucuMn0_Z4ov",
        "colab": {
          "base_uri": "https://localhost:8080/"
        },
        "outputId": "9235da1b-3a8b-4bee-eea4-61a7567fd462"
      },
      "execution_count": 102,
      "outputs": [
        {
          "output_type": "stream",
          "name": "stdout",
          "text": [
            "     \n",
            "    *\n",
            "   **\n",
            "  ***\n",
            " ****\n",
            "\n",
            "\n",
            "     \n",
            "    * \n",
            "   * * \n",
            "  * * * \n",
            " * * * * \n",
            "\n",
            "\n",
            "******\n",
            "***** \n",
            "****  \n",
            "***   \n",
            "**    \n",
            "\n",
            "\n"
          ]
        }
      ]
    },
    {
      "cell_type": "code",
      "source": [
        "# number of rows\n",
        "rows = 5\n",
        "k = 2 * rows - 2\n",
        "for i in range(0, rows):\n",
        "    # process each column\n",
        "    for j in range(0, k):\n",
        "        # print space in pyramid\n",
        "        print(end=\" \")\n",
        "    k = k - 2\n",
        "    for j in range(0, i + 1):\n",
        "        # display star\n",
        "        print(\"* \", end=\"\")\n",
        "    print(\"\")\n"
      ],
      "metadata": {
        "colab": {
          "base_uri": "https://localhost:8080/"
        },
        "id": "s9tgt0-vuTNL",
        "outputId": "87fca2c6-fdfd-4148-bcee-ff0670e21325"
      },
      "execution_count": 63,
      "outputs": [
        {
          "output_type": "stream",
          "name": "stdout",
          "text": [
            "        * \n",
            "      * * \n",
            "    * * * \n",
            "  * * * * \n",
            "* * * * * \n"
          ]
        }
      ]
    },
    {
      "cell_type": "code",
      "source": [
        "rows = 5\n",
        "k = 2 * rows - 2\n",
        "for i in range(rows, -1, -1):\n",
        "    for j in range(k, 0, -1):\n",
        "        print(end=\" \")\n",
        "    k = k + 1\n",
        "    for j in range(0, i + 1):\n",
        "        print(\"*\", end=\" \")\n",
        "    print(\"\")\n"
      ],
      "metadata": {
        "colab": {
          "base_uri": "https://localhost:8080/"
        },
        "id": "36Vfy3jZwDSN",
        "outputId": "a1f549ff-d5eb-4a19-dc01-1f36323597b0"
      },
      "execution_count": 110,
      "outputs": [
        {
          "output_type": "stream",
          "name": "stdout",
          "text": [
            "        * * * * * * \n",
            "         * * * * * \n",
            "          * * * * \n",
            "           * * * \n",
            "            * * \n",
            "             * \n"
          ]
        }
      ]
    },
    {
      "cell_type": "code",
      "source": [
        "rows = 5\n",
        "i = rows\n",
        "while i >= 1:\n",
        "    j = rows\n",
        "    while j > i:\n",
        "        # display space\n",
        "        print(' ', end=' ')\n",
        "        j -= 1\n",
        "    k = 1\n",
        "    while k <= i:\n",
        "        print('*', end=' ')\n",
        "        k += 1\n",
        "    print()\n",
        "    i -= 1\n"
      ],
      "metadata": {
        "colab": {
          "base_uri": "https://localhost:8080/"
        },
        "id": "6Y_FSE0py2xL",
        "outputId": "b7c3fc93-8bea-42c2-f153-dce187d91c0a"
      },
      "execution_count": 111,
      "outputs": [
        {
          "output_type": "stream",
          "name": "stdout",
          "text": [
            "* * * * * \n",
            "  * * * * \n",
            "    * * * \n",
            "      * * \n",
            "        * \n"
          ]
        }
      ]
    },
    {
      "cell_type": "code",
      "source": [
        "print(\"Print equilateral triangle Pyramid using asterisk symbol \")\n",
        "# printing full Triangle pyramid using stars\n",
        "size = 7\n",
        "m = (2 * size) - 2\n",
        "for i in range(0, size):\n",
        "    for j in range(0, m):\n",
        "        print(end=\" \")\n",
        "    # decrementing m after each loop\n",
        "    m = m - 1\n",
        "    for j in range(0, i + 1):\n",
        "        print(\"* \", end=' ')\n",
        "    print(\" \")\n"
      ],
      "metadata": {
        "colab": {
          "base_uri": "https://localhost:8080/"
        },
        "id": "MmNU98sp0Upy",
        "outputId": "01f9daf3-cb84-4b09-f4ed-3ec9b9f8cd03"
      },
      "execution_count": 123,
      "outputs": [
        {
          "output_type": "stream",
          "name": "stdout",
          "text": [
            "Print equilateral triangle Pyramid using asterisk symbol \n",
            "            *   \n",
            "           *  *   \n",
            "          *  *  *   \n",
            "         *  *  *  *   \n",
            "        *  *  *  *  *   \n",
            "       *  *  *  *  *  *   \n",
            "      *  *  *  *  *  *  *   \n"
          ]
        }
      ]
    },
    {
      "cell_type": "code",
      "source": [
        "rows = 5\n",
        "i = 1\n",
        "while i <= rows:\n",
        "    j = i\n",
        "    while j < rows:\n",
        "        # display space\n",
        "        print(' ', end=' ')\n",
        "        j += 1\n",
        "    k = 1\n",
        "    while k <= i:\n",
        "        print('*', end=' ')\n",
        "        k += 1\n",
        "    print()\n",
        "    i += 1\n",
        "\n",
        "i = rows\n",
        "while i >= 1:\n",
        "    j = i\n",
        "    while j <= rows:\n",
        "        print(' ', end=' ')\n",
        "        j += 1\n",
        "    k = 1\n",
        "    while k < i:\n",
        "        print('*', end=' ')\n",
        "        k += 1\n",
        "    print('')\n",
        "    i -= 1\n"
      ],
      "metadata": {
        "colab": {
          "base_uri": "https://localhost:8080/"
        },
        "id": "XM5yuKvb0al5",
        "outputId": "aab76ec9-630e-4113-ea51-f2f0cc01f417"
      },
      "execution_count": 124,
      "outputs": [
        {
          "output_type": "stream",
          "name": "stdout",
          "text": [
            "        * \n",
            "      * * \n",
            "    * * * \n",
            "  * * * * \n",
            "* * * * * \n",
            "  * * * * \n",
            "    * * * \n",
            "      * * \n",
            "        * \n",
            "          \n"
          ]
        }
      ]
    },
    {
      "cell_type": "code",
      "source": [
        "rows = 5\n",
        "i = 0\n",
        "while i <= rows - 1:\n",
        "    j = 0\n",
        "    while j < i:\n",
        "        # display space\n",
        "        print('', end=' ')\n",
        "        j += 1\n",
        "    k = i\n",
        "    while k <= rows - 1:\n",
        "        print('*', end=' ')\n",
        "        k += 1\n",
        "    print()\n",
        "    i += 1\n",
        "\n",
        "i = rows - 1\n",
        "while i >= 0:\n",
        "    j = 0\n",
        "    while j < i:\n",
        "        print('', end=' ')\n",
        "        j += 1\n",
        "    k = i\n",
        "    while k <= rows - 1:\n",
        "        print('*', end=' ')\n",
        "        k += 1\n",
        "    print('')\n",
        "    i -= 1\n"
      ],
      "metadata": {
        "colab": {
          "base_uri": "https://localhost:8080/"
        },
        "id": "QSf4esRz0ic-",
        "outputId": "1b724fd6-9dc5-4926-c0cc-c7fbc02f2c8f"
      },
      "execution_count": 125,
      "outputs": [
        {
          "output_type": "stream",
          "name": "stdout",
          "text": [
            "* * * * * \n",
            " * * * * \n",
            "  * * * \n",
            "   * * \n",
            "    * \n",
            "    * \n",
            "   * * \n",
            "  * * * \n",
            " * * * * \n",
            "* * * * * \n"
          ]
        }
      ]
    },
    {
      "cell_type": "code",
      "source": [
        "rows = 14\n",
        "print(\"*\" * rows, end=\"\\n\")\n",
        "i = (rows // 2) - 1\n",
        "j = 2\n",
        "while i != 0:\n",
        "    while j <= (rows - 2):\n",
        "        print(\"*\" * i, end=\"\")\n",
        "        print(\"_\" * j, end=\"\")\n",
        "        print(\"*\" * i, end=\"\\n\")\n",
        "        i = i - 1\n",
        "        j = j + 2"
      ],
      "metadata": {
        "colab": {
          "base_uri": "https://localhost:8080/"
        },
        "id": "QoDsOUOR0kJ3",
        "outputId": "f7e7139d-c21b-4213-a39d-9ae10ae6a151"
      },
      "execution_count": 126,
      "outputs": [
        {
          "output_type": "stream",
          "name": "stdout",
          "text": [
            "**************\n",
            "******__******\n",
            "*****____*****\n",
            "****______****\n",
            "***________***\n",
            "**__________**\n",
            "*____________*\n"
          ]
        }
      ]
    },
    {
      "cell_type": "code",
      "source": [
        "rows = 5\n",
        "k = 2 * rows - 2\n",
        "for i in range(0, rows):\n",
        "    for j in range(0, k):\n",
        "        print(end=\" \")\n",
        "    k = k - 1\n",
        "    for j in range(0, i + 1):\n",
        "        print(\"* \", end=\"\")\n",
        "    print(\"\")\n",
        "    \n",
        "k = rows - 2\n",
        "\n",
        "for i in range(rows, -1, -1):\n",
        "    for j in range(k, 0, -1):\n",
        "        print(end=\" \")\n",
        "    k = k + 1\n",
        "    for j in range(0, i + 1):\n",
        "        print(\"* \", end=\"\")\n",
        "    print(\"\")"
      ],
      "metadata": {
        "colab": {
          "base_uri": "https://localhost:8080/"
        },
        "id": "7KGsTiWb0qLl",
        "outputId": "d42a961d-c857-4159-880e-2b9eafd87549"
      },
      "execution_count": 127,
      "outputs": [
        {
          "output_type": "stream",
          "name": "stdout",
          "text": [
            "        * \n",
            "       * * \n",
            "      * * * \n",
            "     * * * * \n",
            "    * * * * * \n",
            "   * * * * * * \n",
            "    * * * * * \n",
            "     * * * * \n",
            "      * * * \n",
            "       * * \n",
            "        * \n"
          ]
        }
      ]
    },
    {
      "cell_type": "code",
      "source": [
        "rows = 5\n",
        "i = 1\n",
        "while i <= rows:\n",
        "    j = rows\n",
        "    while j > i:\n",
        "        # display space\n",
        "        print(' ', end=' ')\n",
        "        j -= 1\n",
        "    print('*', end=' ')\n",
        "    k = 1\n",
        "    while k < 2 * (i - 1):\n",
        "        print(' ', end=' ')\n",
        "        k += 1\n",
        "    if i == 1:\n",
        "        print()\n",
        "    else:\n",
        "        print('*')\n",
        "    i += 1\n",
        "\n",
        "i = rows - 1\n",
        "while i >= 1:\n",
        "    j = rows\n",
        "    while j > i:\n",
        "        print(' ', end=' ')\n",
        "        j -= 1\n",
        "    print('*', end=' ')\n",
        "    k = 1\n",
        "    while k <= 2 * (i - 1):\n",
        "        print(' ', end=' ')\n",
        "        k += 1\n",
        "    if i == 1:\n",
        "        print()\n",
        "    else:\n",
        "        print('*')\n",
        "    i -= 1\n"
      ],
      "metadata": {
        "colab": {
          "base_uri": "https://localhost:8080/"
        },
        "id": "ZnlGb_Ej0tKV",
        "outputId": "d1429001-d1fb-4be4-e7fa-bd806b8821ad"
      },
      "execution_count": 128,
      "outputs": [
        {
          "output_type": "stream",
          "name": "stdout",
          "text": [
            "        * \n",
            "      *   *\n",
            "    *       *\n",
            "  *           *\n",
            "*               *\n",
            "  *             *\n",
            "    *         *\n",
            "      *     *\n",
            "        * \n"
          ]
        }
      ]
    },
    {
      "cell_type": "markdown",
      "source": [
        "Alphabets and letters pattern"
      ],
      "metadata": {
        "id": "qdNagbGO0zwg"
      }
    },
    {
      "cell_type": "code",
      "source": [
        "# ASCII number of 'A'\n",
        "ascii_number = 65\n",
        "rows = 7\n",
        "for i in range(0, rows):\n",
        "    for j in range(0, i + 1):\n",
        "        character = chr(ascii_number)\n",
        "        print(character, end=' ')\n",
        "        ascii_number += 1\n",
        "    print(\" \")"
      ],
      "metadata": {
        "colab": {
          "base_uri": "https://localhost:8080/"
        },
        "id": "OwbSYZhh0zEb",
        "outputId": "ff848ff3-59ce-4626-baf1-2b8a2dc670a2"
      },
      "execution_count": 129,
      "outputs": [
        {
          "output_type": "stream",
          "name": "stdout",
          "text": [
            "A  \n",
            "B C  \n",
            "D E F  \n",
            "G H I J  \n",
            "K L M N O  \n",
            "P Q R S T U  \n",
            "V W X Y Z [ \\  \n"
          ]
        }
      ]
    },
    {
      "cell_type": "code",
      "source": [
        "word = \"Python\"\n",
        "x = \"\"\n",
        "for i in word:\n",
        "    x += i\n",
        "    print(x)\n"
      ],
      "metadata": {
        "colab": {
          "base_uri": "https://localhost:8080/"
        },
        "id": "inLD0xjI04Ym",
        "outputId": "da529b85-c4e7-43cc-c09c-b7e28df0e462"
      },
      "execution_count": 130,
      "outputs": [
        {
          "output_type": "stream",
          "name": "stdout",
          "text": [
            "P\n",
            "Py\n",
            "Pyt\n",
            "Pyth\n",
            "Pytho\n",
            "Python\n"
          ]
        }
      ]
    },
    {
      "cell_type": "code",
      "source": [
        "print(\"Print equilateral triangle Pyramid with characters \")\n",
        "size = 7\n",
        "asciiNumber = 65\n",
        "m = (2 * size) - 2\n",
        "for i in range(0, size):\n",
        "    for j in range(0, m):\n",
        "        print(end=\" \")\n",
        "    m = m - 1\n",
        "    for j in range(0, i + 1):\n",
        "        character = chr(asciiNumber)\n",
        "        print(character, end=' ')\n",
        "        asciiNumber += 1\n",
        "    print(\" \")"
      ],
      "metadata": {
        "colab": {
          "base_uri": "https://localhost:8080/"
        },
        "id": "Y5x8PoKe07ag",
        "outputId": "746c07a6-3636-4705-97c9-a1e9ada2ba94"
      },
      "execution_count": 131,
      "outputs": [
        {
          "output_type": "stream",
          "name": "stdout",
          "text": [
            "Print equilateral triangle Pyramid with characters \n",
            "            A  \n",
            "           B C  \n",
            "          D E F  \n",
            "         G H I J  \n",
            "        K L M N O  \n",
            "       P Q R S T U  \n",
            "      V W X Y Z [ \\  \n"
          ]
        }
      ]
    },
    {
      "cell_type": "code",
      "source": [
        "# Same character pattern\n",
        "character = 'V'\n",
        "# convert char to ASCII\n",
        "char_ascii_no = ord(character)\n",
        "for i in range(0, 5):\n",
        "    for j in range(0, i + 1):\n",
        "        # Convert the ASCII value to the character\n",
        "        user_char = chr(char_ascii_no)\n",
        "        print(user_char, end=' ')\n",
        "    print()"
      ],
      "metadata": {
        "colab": {
          "base_uri": "https://localhost:8080/"
        },
        "id": "jjjDqFY00-LR",
        "outputId": "e880f91c-4406-4671-874b-f84edecb0cb6"
      },
      "execution_count": 132,
      "outputs": [
        {
          "output_type": "stream",
          "name": "stdout",
          "text": [
            "V \n",
            "V V \n",
            "V V V \n",
            "V V V V \n",
            "V V V V V \n"
          ]
        }
      ]
    },
    {
      "cell_type": "markdown",
      "source": [
        "More miscellaneous Patterns"
      ],
      "metadata": {
        "id": "eo_TfmIg1Ado"
      }
    },
    {
      "cell_type": "code",
      "source": [
        "# Pyramid of horizontal tables of numbers\n",
        "rows = 10\n",
        "for i in range(1, rows + 1):\n",
        "    for j in range(1, i + 1):\n",
        "        print(i * j, end=' ')\n",
        "    print()\n"
      ],
      "metadata": {
        "id": "Zo0eyy-X1EVa"
      },
      "execution_count": null,
      "outputs": []
    },
    {
      "cell_type": "code",
      "source": [
        "rows = 9\n",
        "for i in range(1, rows):\n",
        "    for j in range(-1 + i, -1, -1):\n",
        "        print(format(2 ** j, \"4d\"), end=' ')\n",
        "    print(\"\")"
      ],
      "metadata": {
        "id": "v4-W0Mm41GT-"
      },
      "execution_count": null,
      "outputs": []
    },
    {
      "cell_type": "code",
      "source": [
        "rows = 9\n",
        "for i in range(1, rows):\n",
        "    for i in range(0, i, 1):\n",
        "        print(format(2 ** i, \"4d\"), end=' ')\n",
        "    for i in range(-1 + i, -1, -1):\n",
        "        print(format(2 ** i, \"4d\"), end=' ')\n",
        "    print(\"\")"
      ],
      "metadata": {
        "colab": {
          "base_uri": "https://localhost:8080/"
        },
        "id": "5T3Du9ld1Jhc",
        "outputId": "e4cac1e2-e5c4-4c48-d349-12655e380744"
      },
      "execution_count": 133,
      "outputs": [
        {
          "output_type": "stream",
          "name": "stdout",
          "text": [
            "   1 \n",
            "   1    2    1 \n",
            "   1    2    4    2    1 \n",
            "   1    2    4    8    4    2    1 \n",
            "   1    2    4    8   16    8    4    2    1 \n",
            "   1    2    4    8   16   32   16    8    4    2    1 \n",
            "   1    2    4    8   16   32   64   32   16    8    4    2    1 \n",
            "   1    2    4    8   16   32   64  128   64   32   16    8    4    2    1 \n"
          ]
        }
      ]
    },
    {
      "cell_type": "code",
      "source": [
        "current_num = 1\n",
        "stop = 2\n",
        "rows = 3\n",
        "\n",
        "for i in range(rows):\n",
        "    for column in range(1, stop):\n",
        "        print(current_num, end=' ')\n",
        "        current_num += 1\n",
        "    print(\"\")\n",
        "    stop += 2\n"
      ],
      "metadata": {
        "colab": {
          "base_uri": "https://localhost:8080/"
        },
        "id": "hl7bb0WK1Ngf",
        "outputId": "a4094de6-f4a9-4e4c-fd5f-35685c48ac21"
      },
      "execution_count": 134,
      "outputs": [
        {
          "output_type": "stream",
          "name": "stdout",
          "text": [
            "1 \n",
            "2 3 4 \n",
            "5 6 7 8 9 \n"
          ]
        }
      ]
    },
    {
      "cell_type": "code",
      "source": [
        "current_num = 1\n",
        "rows = 4\n",
        "stop = 2\n",
        "for i in range(rows):\n",
        "    for column in range(1, stop):\n",
        "        print(current_num, end=' ')\n",
        "        current_num += 1\n",
        "    print(\"\")\n",
        "    stop += 1"
      ],
      "metadata": {
        "colab": {
          "base_uri": "https://localhost:8080/"
        },
        "id": "pnzZ-RAP1QzS",
        "outputId": "c225125c-7cbb-4630-e02c-6d23f9b10b88"
      },
      "execution_count": 135,
      "outputs": [
        {
          "output_type": "stream",
          "name": "stdout",
          "text": [
            "1 \n",
            "2 3 \n",
            "4 5 6 \n",
            "7 8 9 10 \n"
          ]
        }
      ]
    },
    {
      "cell_type": "code",
      "source": [
        "rows = 5\n",
        "last_num = 2 * rows\n",
        "even_num = last_num\n",
        "for i in range(1, rows + 1):\n",
        "    even_num = last_num\n",
        "    for j in range(i):\n",
        "        print(even_num, end=' ')\n",
        "        even_num -= 2\n",
        "    print(\"\\r\")\n"
      ],
      "metadata": {
        "colab": {
          "base_uri": "https://localhost:8080/"
        },
        "id": "iW3XKidy1TOE",
        "outputId": "c2fda3bc-f2c3-4de9-9ee2-6eefe181b542"
      },
      "execution_count": 136,
      "outputs": [
        {
          "output_type": "stream",
          "name": "stdout",
          "text": [
            "10 \r\n",
            "10 8 \r\n",
            "10 8 6 \r\n",
            "10 8 6 4 \r\n",
            "10 8 6 4 2 \r\n"
          ]
        }
      ]
    },
    {
      "cell_type": "code",
      "source": [
        "rows = 6\n",
        "for i in range(1, rows + 1):\n",
        "    for j in range(1, i - 1):\n",
        "        print(j, end=\" \")\n",
        "    for j in range(i - 1, 0, -1):\n",
        "        print(j, end=\" \")\n",
        "    print()\n"
      ],
      "metadata": {
        "colab": {
          "base_uri": "https://localhost:8080/"
        },
        "id": "BwR8GLH41VpD",
        "outputId": "70d29fd5-1533-4dbb-8312-02bf8b155038"
      },
      "execution_count": 137,
      "outputs": [
        {
          "output_type": "stream",
          "name": "stdout",
          "text": [
            "\n",
            "1 \n",
            "1 2 1 \n",
            "1 2 3 2 1 \n",
            "1 2 3 4 3 2 1 \n",
            "1 2 3 4 5 4 3 2 1 \n"
          ]
        }
      ]
    },
    {
      "cell_type": "code",
      "source": [
        "rows = 7\n",
        "for i in range(0, rows):\n",
        "    for j in range(0, i + 1):\n",
        "        print(i * j, end='  ')\n",
        "    print()"
      ],
      "metadata": {
        "colab": {
          "base_uri": "https://localhost:8080/"
        },
        "id": "vswMslS21Xu8",
        "outputId": "07113c9e-477d-4f37-ed43-32a70b30d3d5"
      },
      "execution_count": 138,
      "outputs": [
        {
          "output_type": "stream",
          "name": "stdout",
          "text": [
            "0  \n",
            "0  1  \n",
            "0  2  4  \n",
            "0  3  6  9  \n",
            "0  4  8  12  16  \n",
            "0  5  10  15  20  25  \n",
            "0  6  12  18  24  30  36  \n"
          ]
        }
      ]
    },
    {
      "cell_type": "code",
      "source": [
        "rows = 5\n",
        "for i in range(0, rows + 1, 1):\n",
        "    for j in range(i + 1, rows + 1, 1):\n",
        "        print(j, end=' ')\n",
        "    print()"
      ],
      "metadata": {
        "colab": {
          "base_uri": "https://localhost:8080/"
        },
        "id": "yiGF7oOn1aQY",
        "outputId": "17cf381a-29aa-4cba-da41-2039a0964095"
      },
      "execution_count": 139,
      "outputs": [
        {
          "output_type": "stream",
          "name": "stdout",
          "text": [
            "1 2 3 4 5 \n",
            "2 3 4 5 \n",
            "3 4 5 \n",
            "4 5 \n",
            "5 \n",
            "\n"
          ]
        }
      ]
    },
    {
      "cell_type": "code",
      "source": [
        "rows = 6\n",
        "for i in range(0, rows):\n",
        "    for j in range(rows - 1, i, -1):\n",
        "        print(j, '', end='')\n",
        "    for l in range(i):\n",
        "        print('    ', end='')\n",
        "    for k in range(i + 1, rows):\n",
        "        print(k, '', end='')\n",
        "    print('\\n')"
      ],
      "metadata": {
        "colab": {
          "base_uri": "https://localhost:8080/"
        },
        "id": "FCRarB331d4Q",
        "outputId": "75a95698-a7de-4bae-ceab-d35a2203a191"
      },
      "execution_count": 140,
      "outputs": [
        {
          "output_type": "stream",
          "name": "stdout",
          "text": [
            "5 4 3 2 1 1 2 3 4 5 \n",
            "\n",
            "5 4 3 2     2 3 4 5 \n",
            "\n",
            "5 4 3         3 4 5 \n",
            "\n",
            "5 4             4 5 \n",
            "\n",
            "5                 5 \n",
            "\n",
            "                    \n",
            "\n"
          ]
        }
      ]
    },
    {
      "cell_type": "code",
      "source": [
        "row = 4\n",
        "for i in range(0, row):\n",
        "    c = 1\n",
        "    print(c, end=' ')\n",
        "    for j in range(row - i - 1, 0, -1):\n",
        "        print('*', end=' ')\n",
        "        c = c + 1\n",
        "        print(c, end=' ')\n",
        "    print('\\n')\n"
      ],
      "metadata": {
        "colab": {
          "base_uri": "https://localhost:8080/"
        },
        "id": "UGr2sASL1g-m",
        "outputId": "a4f00838-6e11-4376-fe30-bd5d984423b8"
      },
      "execution_count": 141,
      "outputs": [
        {
          "output_type": "stream",
          "name": "stdout",
          "text": [
            "1 * 2 * 3 * 4 \n",
            "\n",
            "1 * 2 * 3 \n",
            "\n",
            "1 * 2 \n",
            "\n",
            "1 \n",
            "\n"
          ]
        }
      ]
    },
    {
      "cell_type": "code",
      "source": [
        "num = 4\n",
        "counter = 0\n",
        "for x in range(0, num):\n",
        "    for y in range(0, x + 1):\n",
        "        print(counter, end=\" \")\n",
        "        counter = 2 ** (x + 1)\n",
        "    print()"
      ],
      "metadata": {
        "colab": {
          "base_uri": "https://localhost:8080/"
        },
        "id": "3VJe26YF1kvZ",
        "outputId": "7e0864fe-e095-4e17-96b3-a53442d056cd"
      },
      "execution_count": 142,
      "outputs": [
        {
          "output_type": "stream",
          "name": "stdout",
          "text": [
            "0 \n",
            "2 4 \n",
            "4 8 8 \n",
            "8 16 16 16 \n"
          ]
        }
      ]
    },
    {
      "cell_type": "code",
      "source": [
        "count=1\n",
        "flag=0\n",
        "num=int(input('Enter number:'))\n",
        "row=(num)\n",
        "col=2\n",
        "for i in range(row):\n",
        "    for j in range(col):\n",
        "        if flag==0:\n",
        "            print(count,end='')\n",
        "        else:\n",
        "            print('*',end='')\n",
        "            \n",
        "    if i%2==0:\n",
        "        flag=1\n",
        "        count+=1\n",
        "    else:\n",
        "        flag=0\n",
        "    col+=1\n",
        "    print('\\r')"
      ],
      "metadata": {
        "colab": {
          "base_uri": "https://localhost:8080/"
        },
        "id": "42CBCBVm15JO",
        "outputId": "47cfaaf2-fa9a-443d-a4e5-9f797e622b16"
      },
      "execution_count": 143,
      "outputs": [
        {
          "output_type": "stream",
          "name": "stdout",
          "text": [
            "Enter number:6\n",
            "11\n",
            "***\n",
            "2222\n",
            "*****\n",
            "333333\n",
            "*******\n"
          ]
        }
      ]
    },
    {
      "cell_type": "code",
      "source": [
        "for i in range(5):\n",
        "    for j in range(i+1, 7):\n",
        "        print(j, end=\"\")\n",
        "    print()\n",
        "for i in range(6):\n",
        "    for j in range(6-i, 7):\n",
        "        print(j, end=\"\")\n",
        "    print()"
      ],
      "metadata": {
        "colab": {
          "base_uri": "https://localhost:8080/"
        },
        "id": "WQ_YVKEg19zv",
        "outputId": "69641df8-8bd3-48f4-b70c-747c091319f1"
      },
      "execution_count": 144,
      "outputs": [
        {
          "output_type": "stream",
          "name": "stdout",
          "text": [
            "123456\n",
            "23456\n",
            "3456\n",
            "456\n",
            "56\n",
            "6\n",
            "56\n",
            "456\n",
            "3456\n",
            "23456\n",
            "123456\n"
          ]
        }
      ]
    },
    {
      "cell_type": "code",
      "source": [
        "print(\"------\")\n",
        "for i in range(5):\n",
        "    for j in range(1):\n",
        "        print(\"|\", end=\"\")\n",
        "    for j in range(5-i-1, 0, -1):\n",
        "        print(\" \", end=\"\")\n",
        "    for j in range(1):\n",
        "        print(\"/\", end=\"\")\n",
        "    print()"
      ],
      "metadata": {
        "colab": {
          "base_uri": "https://localhost:8080/"
        },
        "id": "fyyC_PzQ2AIS",
        "outputId": "6becc303-ef8e-45f8-bd0b-4add1ad95d14"
      },
      "execution_count": 145,
      "outputs": [
        {
          "output_type": "stream",
          "name": "stdout",
          "text": [
            "------\n",
            "|    /\n",
            "|   /\n",
            "|  /\n",
            "| /\n",
            "|/\n"
          ]
        }
      ]
    },
    {
      "cell_type": "markdown",
      "source": [
        "With out nested loops"
      ],
      "metadata": {
        "id": "ElvJl_X_30-h"
      }
    },
    {
      "cell_type": "code",
      "source": [
        "for i in range(5):\n",
        "    print(str(i+1)*(i+1))\n",
        "print('\\n')\n",
        "for i in reversed(range(5)):\n",
        "    print(str(i+1)*(i+1))\n",
        "print('\\n')\n",
        "row=5\n",
        "for i in range(row):\n",
        "    print(str(i+1)*(row-i))\n",
        "print('\\n')\n",
        "row=5\n",
        "for i in range(row):\n",
        "    print(str(row)*(row-i))"
      ],
      "metadata": {
        "colab": {
          "base_uri": "https://localhost:8080/"
        },
        "id": "aYjLI4Ij2bAe",
        "outputId": "cd2f3a1c-29f3-4960-da5c-0cd8b8b3f2c1"
      },
      "execution_count": 166,
      "outputs": [
        {
          "output_type": "stream",
          "name": "stdout",
          "text": [
            "1\n",
            "22\n",
            "333\n",
            "4444\n",
            "55555\n",
            "\n",
            "\n",
            "55555\n",
            "4444\n",
            "333\n",
            "22\n",
            "1\n",
            "\n",
            "\n",
            "11111\n",
            "2222\n",
            "333\n",
            "44\n",
            "5\n",
            "\n",
            "\n",
            "55555\n",
            "5555\n",
            "555\n",
            "55\n",
            "5\n"
          ]
        }
      ]
    },
    {
      "cell_type": "code",
      "source": [
        "total=9\n",
        "for i in reversed(range(4)):\n",
        "    i+=1\n",
        "    j=total-(2*i)\n",
        "    print('#'*i+'*'*j+'+'*i)"
      ],
      "metadata": {
        "colab": {
          "base_uri": "https://localhost:8080/"
        },
        "id": "tmt4T_T02a9_",
        "outputId": "0b3a40e4-4540-40aa-87d0-8a2a224ee05a"
      },
      "execution_count": 167,
      "outputs": [
        {
          "output_type": "stream",
          "name": "stdout",
          "text": [
            "####*++++\n",
            "###***+++\n",
            "##*****++\n",
            "#*******+\n"
          ]
        }
      ]
    },
    {
      "cell_type": "code",
      "source": [
        "for j in range(4):\n",
        "  print('*\\t'*j)\n",
        "for j in range(2,0,-1):\n",
        "  print('*\\t'*j)"
      ],
      "metadata": {
        "colab": {
          "base_uri": "https://localhost:8080/"
        },
        "id": "4RamjgGy2a4l",
        "outputId": "60c3bb83-868a-4da2-a2d2-4bcba896c41e"
      },
      "execution_count": 169,
      "outputs": [
        {
          "output_type": "stream",
          "name": "stdout",
          "text": [
            "\n",
            "*\t\n",
            "*\t*\t\n",
            "*\t*\t*\t\n",
            "*\t*\t\n",
            "*\t\n"
          ]
        }
      ]
    },
    {
      "cell_type": "code",
      "source": [
        "n=int(input('Enter the no of * u need'))\n",
        "for i in range(0, n):\n",
        "    for j in range(0, i + 1):\n",
        "        print(\"*\", end=' ')\n",
        "    print()\n",
        "\n",
        "for i in range(n\n",
        "               , 0, -1):\n",
        "    for j in range(0, i - 1):\n",
        "        print(\"*\", end=' ')\n",
        "    print()"
      ],
      "metadata": {
        "colab": {
          "base_uri": "https://localhost:8080/"
        },
        "id": "mkMqWAIo4fsM",
        "outputId": "8e0fe1d7-124e-45d1-d292-fd6a1c0b213d"
      },
      "execution_count": 171,
      "outputs": [
        {
          "output_type": "stream",
          "name": "stdout",
          "text": [
            "Enter the no of * u need10\n",
            "* \n",
            "* * \n",
            "* * * \n",
            "* * * * \n",
            "* * * * * \n",
            "* * * * * * \n",
            "* * * * * * * \n",
            "* * * * * * * * \n",
            "* * * * * * * * * \n",
            "* * * * * * * * * * \n",
            "* * * * * * * * * \n",
            "* * * * * * * * \n",
            "* * * * * * * \n",
            "* * * * * * \n",
            "* * * * * \n",
            "* * * * \n",
            "* * * \n",
            "* * \n",
            "* \n",
            "\n"
          ]
        }
      ]
    }
  ]
}